{
  "nbformat": 4,
  "nbformat_minor": 0,
  "metadata": {
    "colab": {
      "provenance": [],
      "gpuType": "A100",
      "authorship_tag": "ABX9TyMRtYranG//owke0Hjywxf1",
      "include_colab_link": true
    },
    "kernelspec": {
      "name": "python3",
      "display_name": "Python 3"
    },
    "language_info": {
      "name": "python"
    },
    "accelerator": "GPU"
  },
  "cells": [
    {
      "cell_type": "markdown",
      "metadata": {
        "id": "view-in-github",
        "colab_type": "text"
      },
      "source": [
        "<a href=\"https://colab.research.google.com/github/Bryan-Az/TransformerLLM-Finetuning/blob/main/NanoGPT_TransformerLLM.ipynb\" target=\"_parent\"><img src=\"https://colab.research.google.com/assets/colab-badge.svg\" alt=\"Open In Colab\"/></a>"
      ]
    },
    {
      "cell_type": "markdown",
      "source": [
        "# A 'Nano' Generative Pre-trained Transformer LLM\n",
        "This is an experiment where I create and train a mini GPT model from scratch. It will be using a ebook of my choice as its' training data."
      ],
      "metadata": {
        "id": "wg_AjMGGo_sC"
      }
    },
    {
      "cell_type": "markdown",
      "source": [
        "## Imports and Installs"
      ],
      "metadata": {
        "id": "p3tbFB6Ro8cQ"
      }
    },
    {
      "cell_type": "code",
      "execution_count": 1,
      "metadata": {
        "id": "Paf9FeBoepaw"
      },
      "outputs": [],
      "source": [
        "import gdown"
      ]
    },
    {
      "cell_type": "code",
      "source": [
        "import torch\n",
        "import torch.nn as nn\n",
        "from torch.nn import functional as F"
      ],
      "metadata": {
        "id": "bF183rJjtq64"
      },
      "execution_count": 2,
      "outputs": []
    },
    {
      "cell_type": "code",
      "source": [
        "device = 'cuda' if torch.cuda.is_available() else 'cpu'"
      ],
      "metadata": {
        "id": "rxTk4YGb153S"
      },
      "execution_count": 3,
      "outputs": []
    },
    {
      "cell_type": "markdown",
      "source": [
        "## Extracting, Transforming, and Loading the Ebook Data\n",
        "The book I chose is \"Voices from within the Veil\" by W.E.B DuBois. This book was taken from the Project Gutenberg website and is available to use freely. I uploaded it to Google Drive for my own use as to not scrape project gutenberg's website."
      ],
      "metadata": {
        "id": "ts6B5Fe6lr03"
      }
    },
    {
      "cell_type": "code",
      "source": [
        "voices_within_veil_glink = 'https://drive.google.com/file/d/1Ah7n0r-bjW8nbTdc82C8_9_4l3c9lOql/view?usp=sharing'\n",
        "voices_within_veil_id = voices_within_veil_glink.split('/')[-2]\n",
        "voices_within_veil_path = gdown.download(id=voices_within_veil_id)"
      ],
      "metadata": {
        "colab": {
          "base_uri": "https://localhost:8080/"
        },
        "id": "g1E1YHZOkWxo",
        "outputId": "e4bafd73-1eec-4358-9d27-5c665f1c5c7b"
      },
      "execution_count": 4,
      "outputs": [
        {
          "output_type": "stream",
          "name": "stderr",
          "text": [
            "Downloading...\n",
            "From: https://drive.google.com/uc?id=1Ah7n0r-bjW8nbTdc82C8_9_4l3c9lOql\n",
            "To: /content/Voices_from_within_the_Veil_WEBDuBois.txt\n",
            "100%|██████████| 419k/419k [00:00<00:00, 108MB/s]\n"
          ]
        }
      ]
    },
    {
      "cell_type": "code",
      "source": [
        "voices_within_veil_lines = open(voices_within_veil_path, 'r').readlines()\n",
        "voices_within_veil = ''.join(voices_within_veil_lines)"
      ],
      "metadata": {
        "id": "DULjsldykmew"
      },
      "execution_count": 5,
      "outputs": []
    },
    {
      "cell_type": "code",
      "source": [
        "print(voices_within_veil[50:305])"
      ],
      "metadata": {
        "colab": {
          "base_uri": "https://localhost:8080/"
        },
        "id": "0VdZSRaUoZoW",
        "outputId": "8d28d501-119a-457d-8c33-79bf5a4482ce"
      },
      "execution_count": 6,
      "outputs": [
        {
          "output_type": "stream",
          "name": "stdout",
          "text": [
            "from Within the Veil\n",
            "    \n",
            "This ebook is for the use of anyone anywhere in the United States and\n",
            "most other parts of the world at no cost and with almost no restrictions\n",
            "whatsoever. You may copy it, give it away or re-use it under the terms\n",
            "of the Project \n"
          ]
        }
      ]
    },
    {
      "cell_type": "code",
      "source": [
        "chars = sorted(list(set(voices_within_veil)))\n",
        "vocab_size = len(chars)\n",
        "print(''.join(chars))\n",
        "print(vocab_size)"
      ],
      "metadata": {
        "colab": {
          "base_uri": "https://localhost:8080/"
        },
        "id": "Xpt3DYyXuYKn",
        "outputId": "8e677f13-e6b3-4326-8826-399c917355f9"
      },
      "execution_count": 7,
      "outputs": [
        {
          "output_type": "stream",
          "name": "stdout",
          "text": [
            "\n",
            " !\"#$%'()*,-./0123456789:;?ABCDEFGHIJKLMNOPQRSTUVWXYZ[]_abcdefghijklmnopqrstuvwxyzàäçéëñô—‘’“”•™﻿\n",
            "98\n"
          ]
        }
      ]
    },
    {
      "cell_type": "code",
      "source": [
        "# creating a tokenizer using a simple encoding function\n",
        "stoi = { ch:i for i,ch in enumerate(chars) }\n",
        "itos = { i:ch for i,ch in enumerate(chars) }\n",
        "encode = lambda s: [stoi[c] for c in s] # encoder: take a string, output a list of integers\n",
        "decode = lambda l: ''.join([itos[i] for i in l]) # decoder: take a list of integers, output a string"
      ],
      "metadata": {
        "id": "0t2xDDsfmiDT"
      },
      "execution_count": 33,
      "outputs": []
    },
    {
      "cell_type": "code",
      "source": [
        "# encoding the data\n",
        "encoded_voices_within_veil = []\n",
        "for line in voices_within_veil_lines:\n",
        "    encoded_voices_within_veil.append(encode(line))"
      ],
      "metadata": {
        "id": "BATFFjbkqe6t"
      },
      "execution_count": 34,
      "outputs": []
    },
    {
      "cell_type": "code",
      "source": [
        "# concatenating all lists to become a single matrix\n",
        "encoded_voices_within_veil = [item for sublist in encoded_voices_within_veil for item in sublist]\n",
        "encoded_voices_within_veil = torch.tensor(encoded_voices_within_veil)"
      ],
      "metadata": {
        "id": "gPvTNGB5r9RB"
      },
      "execution_count": 35,
      "outputs": []
    },
    {
      "cell_type": "code",
      "source": [
        "# saving the ebook into train and test splits\n",
        "percent_train = 0.9\n",
        "train_data = encoded_voices_within_veil[:int(percent_train*len(encoded_voices_within_veil))]\n",
        "test_data = encoded_voices_within_veil[int(percent_train*len(encoded_voices_within_veil)):]"
      ],
      "metadata": {
        "id": "_3pbb2jnnyej"
      },
      "execution_count": 36,
      "outputs": []
    },
    {
      "cell_type": "code",
      "source": [
        "f\"Size of train, test splits: {len(train_data), len(test_data)}\""
      ],
      "metadata": {
        "colab": {
          "base_uri": "https://localhost:8080/",
          "height": 35
        },
        "id": "XepFktwvoG4C",
        "outputId": "778763a2-af6c-484c-ff94-e00c67d57c98"
      },
      "execution_count": 37,
      "outputs": [
        {
          "output_type": "execute_result",
          "data": {
            "text/plain": [
              "'Size of train, test splits: (369613, 41069)'"
            ],
            "application/vnd.google.colaboratory.intrinsic+json": {
              "type": "string"
            }
          },
          "metadata": {},
          "execution_count": 37
        }
      ]
    },
    {
      "cell_type": "code",
      "source": [
        "# sent the train and test data to gpu device\n",
        "train_data = train_data.to(device)\n",
        "test_data = test_data.to(device)"
      ],
      "metadata": {
        "id": "kvwbK6WX1uHZ"
      },
      "execution_count": 38,
      "outputs": []
    },
    {
      "cell_type": "code",
      "source": [
        "# function to batch the data so that the first N words are 'context' and the final N+1 word is the 'target'.\n",
        "batch_size = 4 # independent sequences processed in parallel\n",
        "block_size = 8 # maximum context length for predictions\n",
        "\n",
        "def get_batch(split):\n",
        "    # generate a small batch; inputs x and targets y\n",
        "    data = train_data if split == 'train' else test_data\n",
        "    ix = torch.randint(len(data) - block_size, (batch_size,))\n",
        "    x = torch.stack([data[i:i+block_size] for i in ix])\n",
        "    y = torch.stack([data[i+1:i+block_size+1] for i in ix])\n",
        "    return x, y\n",
        "\n",
        "xb, yb = get_batch('train')\n",
        "print('inputs:')\n",
        "print(xb.shape)\n",
        "print(xb)\n",
        "print('targets:')\n",
        "print(yb.shape)\n",
        "print(yb)\n",
        "\n",
        "print('----')\n",
        "\n",
        "for b in range(batch_size - 3): # batch dimension\n",
        "    for t in range(block_size): # time dimension\n",
        "        context = xb[b, :t+1]\n",
        "        target = yb[b,t]\n",
        "        print(f\"when input is {context.tolist()} the target: {target}\")"
      ],
      "metadata": {
        "colab": {
          "base_uri": "https://localhost:8080/"
        },
        "id": "CJo_y44JpkT3",
        "outputId": "e69a9359-16b4-4246-e86f-be6ee7f32c03"
      },
      "execution_count": 39,
      "outputs": [
        {
          "output_type": "stream",
          "name": "stdout",
          "text": [
            "inputs:\n",
            "torch.Size([4, 8])\n",
            "tensor([[ 1, 57, 62, 71, 71, 76,  1, 76],\n",
            "        [71, 74, 13,  1, 46, 77, 59, 64],\n",
            "        [64, 61,  1, 60, 65, 75, 57, 60],\n",
            "        [76, 75, 13,  1, 41, 71, 79, 11]], device='cuda:0')\n",
            "targets:\n",
            "torch.Size([4, 8])\n",
            "tensor([[57, 62, 71, 71, 76,  1, 76, 64],\n",
            "        [74, 13,  1, 46, 77, 59, 64,  1],\n",
            "        [61,  1, 60, 65, 75, 57, 60, 78],\n",
            "        [75, 13,  1, 41, 71, 79, 11,  1]], device='cuda:0')\n",
            "----\n",
            "when input is [1] the target: 57\n",
            "when input is [1, 57] the target: 62\n",
            "when input is [1, 57, 62] the target: 71\n",
            "when input is [1, 57, 62, 71] the target: 71\n",
            "when input is [1, 57, 62, 71, 71] the target: 76\n",
            "when input is [1, 57, 62, 71, 71, 76] the target: 1\n",
            "when input is [1, 57, 62, 71, 71, 76, 1] the target: 76\n",
            "when input is [1, 57, 62, 71, 71, 76, 1, 76] the target: 64\n"
          ]
        }
      ]
    },
    {
      "cell_type": "markdown",
      "source": [
        "## Initializing the Mini Transformer Model"
      ],
      "metadata": {
        "id": "4Ys5oZj-tZMs"
      }
    },
    {
      "cell_type": "code",
      "source": [
        "# hyperparameters\n",
        "batch_size = 16 # how many independent sequences will we process in parallel?\n",
        "block_size = 32 # what is the maximum context length for predictions?\n",
        "max_iters = 5000\n",
        "eval_interval = 100\n",
        "learning_rate = 1e-3\n",
        "eval_iters = 200\n",
        "n_embd = 64\n",
        "n_head = 4\n",
        "n_layer = 4\n",
        "dropout = 0.0"
      ],
      "metadata": {
        "id": "tjMEUzLat2IM"
      },
      "execution_count": 40,
      "outputs": []
    },
    {
      "cell_type": "code",
      "source": [
        "class Head(nn.Module):\n",
        "    \"\"\" one head of self-attention \"\"\"\n",
        "\n",
        "    def __init__(self, head_size):\n",
        "        super().__init__()\n",
        "        self.key = nn.Linear(n_embd, head_size, bias=False)\n",
        "        self.query = nn.Linear(n_embd, head_size, bias=False)\n",
        "        self.value = nn.Linear(n_embd, head_size, bias=False)\n",
        "        self.register_buffer('tril', torch.tril(torch.ones(block_size, block_size)))\n",
        "\n",
        "        self.dropout = nn.Dropout(dropout)\n",
        "\n",
        "    def forward(self, x):\n",
        "        B,T,C = x.shape\n",
        "        k = self.key(x)   # (B,T,C)\n",
        "        q = self.query(x) # (B,T,C)\n",
        "        # compute attention scores (\"affinities\")\n",
        "        wei = q @ k.transpose(-2,-1) * C**-0.5 # (B, T, C) @ (B, C, T) -> (B, T, T)\n",
        "        wei = wei.masked_fill(self.tril[:T, :T] == 0, float('-inf')) # (B, T, T)\n",
        "        wei = F.softmax(wei, dim=-1) # (B, T, T)\n",
        "        wei = self.dropout(wei)\n",
        "        # perform the weighted aggregation of the values\n",
        "        v = self.value(x) # (B,T,C)\n",
        "        out = wei @ v # (B, T, T) @ (B, T, C) -> (B, T, C)\n",
        "        return out"
      ],
      "metadata": {
        "id": "hLppGmygtmgm"
      },
      "execution_count": 41,
      "outputs": []
    },
    {
      "cell_type": "code",
      "source": [
        "class MultiHeadAttention(nn.Module):\n",
        "    \"\"\" multiple heads of self-attention in parallel \"\"\"\n",
        "\n",
        "    def __init__(self, num_heads, head_size):\n",
        "        super().__init__()\n",
        "        self.heads = nn.ModuleList([Head(head_size) for _ in range(num_heads)])\n",
        "        self.proj = nn.Linear(n_embd, n_embd)\n",
        "        self.dropout = nn.Dropout(dropout)\n",
        "\n",
        "    def forward(self, x):\n",
        "        out = torch.cat([h(x) for h in self.heads], dim=-1)\n",
        "        out = self.dropout(self.proj(out))\n",
        "        return out"
      ],
      "metadata": {
        "id": "P9sKR-XguGyi"
      },
      "execution_count": 42,
      "outputs": []
    },
    {
      "cell_type": "code",
      "source": [
        "class FeedFoward(nn.Module):\n",
        "    \"\"\" a simple linear layer followed by a non-linearity \"\"\"\n",
        "\n",
        "    def __init__(self, n_embd):\n",
        "        super().__init__()\n",
        "        self.net = nn.Sequential(\n",
        "            nn.Linear(n_embd, 4 * n_embd),\n",
        "            nn.ReLU(),\n",
        "            nn.Linear(4 * n_embd, n_embd),\n",
        "            nn.Dropout(dropout),\n",
        "        )\n",
        "\n",
        "    def forward(self, x):\n",
        "        return self.net(x)"
      ],
      "metadata": {
        "id": "d44SMR07uJf4"
      },
      "execution_count": 43,
      "outputs": []
    },
    {
      "cell_type": "code",
      "source": [
        "class Block(nn.Module):\n",
        "    \"\"\" Transformer block: communication followed by computation \"\"\"\n",
        "\n",
        "    def __init__(self, n_embd, n_head):\n",
        "        # n_embd: embedding dimension, n_head: the number of heads we'd like\n",
        "        super().__init__()\n",
        "        head_size = n_embd // n_head\n",
        "        self.sa = MultiHeadAttention(n_head, head_size)\n",
        "        self.ffwd = FeedFoward(n_embd)\n",
        "        self.ln1 = nn.LayerNorm(n_embd)\n",
        "        self.ln2 = nn.LayerNorm(n_embd)\n",
        "\n",
        "    def forward(self, x):\n",
        "        x = x + self.sa(self.ln1(x))\n",
        "        x = x + self.ffwd(self.ln2(x))\n",
        "        return x"
      ],
      "metadata": {
        "id": "HumFA1RRuMvT"
      },
      "execution_count": 44,
      "outputs": []
    },
    {
      "cell_type": "code",
      "source": [
        "# super simple bigram model\n",
        "class BigramLanguageModel(nn.Module):\n",
        "\n",
        "    def __init__(self):\n",
        "        super().__init__()\n",
        "        # each token directly reads off the logits for the next token from a lookup table\n",
        "        self.token_embedding_table = nn.Embedding(vocab_size, n_embd)\n",
        "        self.position_embedding_table = nn.Embedding(block_size, n_embd)\n",
        "        self.blocks = nn.Sequential(*[Block(n_embd, n_head=n_head) for _ in range(n_layer)])\n",
        "        self.ln_f = nn.LayerNorm(n_embd) # final layer norm\n",
        "        self.lm_head = nn.Linear(n_embd, vocab_size)\n",
        "\n",
        "    def forward(self, idx, targets=None):\n",
        "        B, T = idx.shape\n",
        "\n",
        "        # idx and targets are both (B,T) tensor of integers\n",
        "        idx = torch.clamp(idx, 0, self.token_embedding_table.num_embeddings - 1)\n",
        "        tok_emb = self.token_embedding_table(idx) # (B,T,C)\n",
        "        pos_emb = self.position_embedding_table(torch.arange(T, device=device)) # (T,C)\n",
        "        x = tok_emb + pos_emb # (B,T,C)\n",
        "        x = self.blocks(x) # (B,T,C)\n",
        "        x = self.ln_f(x) # (B,T,C)\n",
        "        logits = self.lm_head(x) # (B,T,vocab_size)\n",
        "\n",
        "        if targets is None:\n",
        "            loss = None\n",
        "        else:\n",
        "            B, T, C = logits.shape\n",
        "            logits = logits.view(B*T, C)\n",
        "            targets = targets.view(B*T)\n",
        "            # Ensure targets are within the valid range for logits\n",
        "            targets = torch.clamp(targets, 0, C - 1)\n",
        "            loss = F.cross_entropy(logits, targets)\n",
        "\n",
        "        return logits, loss\n",
        "\n",
        "    def generate(self, idx, max_new_tokens):\n",
        "        # idx is (B, T) array of indices in the current context\n",
        "        for _ in range(max_new_tokens):\n",
        "            # crop idx to the last block_size tokens\n",
        "            idx_cond = idx[:, -block_size:]\n",
        "            # get the predictions\n",
        "            logits, loss = self(idx_cond)\n",
        "            # focus only on the last time step\n",
        "            logits = logits[:, -1, :] # becomes (B, C)\n",
        "            # apply softmax to get probabilities\n",
        "            probs = F.softmax(logits, dim=-1) # (B, C)\n",
        "            # sample from the distribution\n",
        "            idx_next = torch.multinomial(probs, num_samples=1) # (B, 1)\n",
        "            # append sampled index to the running sequence\n",
        "            idx = torch.cat((idx, idx_next), dim=1) # (B, T+1)\n",
        "        return idx"
      ],
      "metadata": {
        "id": "CMyeXqFStUeT"
      },
      "execution_count": 45,
      "outputs": []
    },
    {
      "cell_type": "markdown",
      "source": [
        "## Training the Mini Transformer LLM with Self-Attention"
      ],
      "metadata": {
        "id": "ehJaWYEgumJj"
      }
    },
    {
      "cell_type": "code",
      "source": [
        "@torch.no_grad()\n",
        "def estimate_loss(model):\n",
        "    out = {}\n",
        "    model.eval()\n",
        "    for split in ['train', 'val']:\n",
        "        losses = torch.zeros(eval_iters)\n",
        "        for k in range(eval_iters):\n",
        "            X, Y = get_batch(split)\n",
        "            logits, loss = model(X, Y)\n",
        "            losses[k] = loss.item()\n",
        "        out[split] = losses.mean()\n",
        "    model.train()\n",
        "    return out"
      ],
      "metadata": {
        "id": "WsL44WiEoJIX"
      },
      "execution_count": 46,
      "outputs": []
    },
    {
      "cell_type": "code",
      "source": [
        "nanoGPT_model = BigramLanguageModel()\n",
        "nanoGPT_model = nanoGPT_model.to(device)"
      ],
      "metadata": {
        "id": "jcyb9MyZ21y5"
      },
      "execution_count": 47,
      "outputs": []
    },
    {
      "cell_type": "code",
      "source": [
        "# print the number of parameters in the model\n",
        "print(sum(p.numel() for p in nanoGPT_model.parameters())/1e6, 'M parameters')\n",
        "\n",
        "# create a PyTorch optimizer\n",
        "optimizer = torch.optim.AdamW(nanoGPT_model.parameters(), lr=learning_rate)\n",
        "\n",
        "for iter in range(max_iters):\n",
        "\n",
        "    # every once in a while evaluate the loss on train and val sets\n",
        "    if iter % eval_interval == 0 or iter == max_iters - 1:\n",
        "        losses = estimate_loss(nanoGPT_model)\n",
        "        print(f\"step {iter}: train loss {losses['train']:.4f}, val loss {losses['val']:.4f}\")\n",
        "\n",
        "    # sample a batch of data\n",
        "    xb, yb = get_batch('train')\n",
        "\n",
        "    # evaluate the loss\n",
        "    logits, loss = nanoGPT_model(xb, yb)\n",
        "    optimizer.zero_grad(set_to_none=True)\n",
        "    loss.backward()\n",
        "    optimizer.step()"
      ],
      "metadata": {
        "colab": {
          "base_uri": "https://localhost:8080/"
        },
        "id": "VG7d0En5uqdn",
        "outputId": "493164ac-5d9a-41a0-ddf9-517df616be56"
      },
      "execution_count": 48,
      "outputs": [
        {
          "output_type": "stream",
          "name": "stdout",
          "text": [
            "0.213986 M parameters\n",
            "step 0: train loss 4.8444, val loss 4.8433\n",
            "step 100: train loss 2.6641, val loss 2.8629\n",
            "step 200: train loss 2.5499, val loss 2.7662\n",
            "step 300: train loss 2.4754, val loss 2.6891\n",
            "step 400: train loss 2.3962, val loss 2.5912\n",
            "step 500: train loss 2.3192, val loss 2.5376\n",
            "step 600: train loss 2.2601, val loss 2.4871\n",
            "step 700: train loss 2.2198, val loss 2.4073\n",
            "step 800: train loss 2.1797, val loss 2.3997\n",
            "step 900: train loss 2.1432, val loss 2.3641\n",
            "step 1000: train loss 2.1093, val loss 2.3112\n",
            "step 1100: train loss 2.0811, val loss 2.3027\n",
            "step 1200: train loss 2.0566, val loss 2.2644\n",
            "step 1300: train loss 2.0333, val loss 2.2401\n",
            "step 1400: train loss 1.9975, val loss 2.2205\n",
            "step 1500: train loss 1.9759, val loss 2.2088\n",
            "step 1600: train loss 1.9546, val loss 2.2013\n",
            "step 1700: train loss 1.9435, val loss 2.1963\n",
            "step 1800: train loss 1.9313, val loss 2.1679\n",
            "step 1900: train loss 1.9066, val loss 2.1710\n",
            "step 2000: train loss 1.8982, val loss 2.1394\n",
            "step 2100: train loss 1.8904, val loss 2.1419\n",
            "step 2200: train loss 1.8761, val loss 2.1447\n",
            "step 2300: train loss 1.8515, val loss 2.1057\n",
            "step 2400: train loss 1.8523, val loss 2.1021\n",
            "step 2500: train loss 1.8300, val loss 2.1089\n",
            "step 2600: train loss 1.8258, val loss 2.1054\n",
            "step 2700: train loss 1.8080, val loss 2.0752\n",
            "step 2800: train loss 1.8083, val loss 2.0734\n",
            "step 2900: train loss 1.8030, val loss 2.0743\n",
            "step 3000: train loss 1.7931, val loss 2.0843\n",
            "step 3100: train loss 1.7871, val loss 2.0764\n",
            "step 3200: train loss 1.7626, val loss 2.0727\n",
            "step 3300: train loss 1.7609, val loss 2.0331\n",
            "step 3400: train loss 1.7532, val loss 2.0668\n",
            "step 3500: train loss 1.7442, val loss 2.0344\n",
            "step 3600: train loss 1.7418, val loss 2.0448\n",
            "step 3700: train loss 1.7387, val loss 2.0197\n",
            "step 3800: train loss 1.7427, val loss 2.0269\n",
            "step 3900: train loss 1.7276, val loss 2.0384\n",
            "step 4000: train loss 1.7137, val loss 2.0188\n",
            "step 4100: train loss 1.7089, val loss 2.0190\n",
            "step 4200: train loss 1.7210, val loss 2.0262\n",
            "step 4300: train loss 1.7122, val loss 2.0205\n",
            "step 4400: train loss 1.7016, val loss 2.0097\n",
            "step 4500: train loss 1.6885, val loss 2.0282\n",
            "step 4600: train loss 1.6915, val loss 1.9906\n",
            "step 4700: train loss 1.6896, val loss 1.9840\n",
            "step 4800: train loss 1.6713, val loss 1.9831\n",
            "step 4900: train loss 1.6822, val loss 2.0165\n",
            "step 4999: train loss 1.6707, val loss 1.9967\n"
          ]
        }
      ]
    },
    {
      "cell_type": "markdown",
      "source": [
        "## Generating Text Completion from the Nano-GPT Model"
      ],
      "metadata": {
        "id": "JIBfIdtw5J-8"
      }
    },
    {
      "cell_type": "code",
      "source": [
        "input = 'Voice from'"
      ],
      "metadata": {
        "id": "kcdLLbys4b8Y"
      },
      "execution_count": 28,
      "outputs": []
    },
    {
      "cell_type": "code",
      "source": [
        "context = torch.tensor(encode(input), dtype=torch.long, device=device).unsqueeze(0)"
      ],
      "metadata": {
        "id": "p13gobB14ral"
      },
      "execution_count": 49,
      "outputs": []
    },
    {
      "cell_type": "code",
      "source": [
        "print(decode(nanoGPT_model.generate(context, max_new_tokens=20)[0].tolist()))"
      ],
      "metadata": {
        "colab": {
          "base_uri": "https://localhost:8080/"
        },
        "id": "CrI75Pew4EfB",
        "outputId": "05beb939-38db-43e2-9927-78e3d86579e3"
      },
      "execution_count": 50,
      "outputs": [
        {
          "output_type": "stream",
          "name": "stdout",
          "text": [
            "Voice from colonuage, with it \n"
          ]
        }
      ]
    },
    {
      "cell_type": "code",
      "source": [],
      "metadata": {
        "id": "Sap2dR8T4Nhi"
      },
      "execution_count": null,
      "outputs": []
    }
  ]
}